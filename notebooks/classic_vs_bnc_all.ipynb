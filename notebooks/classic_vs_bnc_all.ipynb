{
 "cells": [
  {
   "cell_type": "code",
   "execution_count": 1,
   "metadata": {},
   "outputs": [],
   "source": [
    "import sys\n",
    "import pandas as pd\n",
    "import numpy as np\n",
    "import matplotlib.pyplot as plt\n",
    "from analysis_support import *\n",
    "from plots import *\n",
    "\n",
    "# IMPORTANT: need to install package `cm-super-minimal` and `dvipng` for matplotlib Latex Output to work\n",
    "\n",
    "plt.rcParams.update({\n",
    "    \"text.usetex\": True,\n",
    "    \"font.family\": \"sans-serif\",\n",
    "    \"font.sans-serif\": [\"Helvetica\"],\n",
    "    \"font.size\": 20,\n",
    "    \"axes.prop_cycle\": plt.cycler('color', ['#377eb8', '#ff7f00', '#4daf4a',\n",
    "                  '#f781bf', '#a65628', '#984ea3',\n",
    "                  '#999999', '#e41a1c', '#dede00'])})\n",
    "#plt.style.use('seaborn-poster')\n",
    "sys.path.append('.')\n",
    "pd.set_option('display.max_columns', None)"
   ]
  },
  {
   "cell_type": "code",
   "execution_count": 2,
   "metadata": {},
   "outputs": [],
   "source": [
    "instance_set = 'all'\n",
    "instances = None\n",
    "#instance_set = 'handcrafted'\n",
    "#instances = [119, 160, 188, 192, 196, 250, 261, 263, 278, 287]"
   ]
  },
  {
   "cell_type": "code",
   "execution_count": 3,
   "metadata": {},
   "outputs": [],
   "source": [
    "seeds = [1, 41, 83, 139, 181, 257, 307, 353, 401, 449]"
   ]
  },
  {
   "cell_type": "code",
   "execution_count": null,
   "metadata": {},
   "outputs": [
    {
     "name": "stdout",
     "output_type": "stream",
     "text": [
      "classic.BARN-all/*.classic.*.*/lazy_prm_classic.BARN.instance_*.json\n",
      "Found 96000 result files\n"
     ]
    }
   ],
   "source": [
    "file_pattern = f'classic.BARN-{instance_set}/*.classic.*.*/lazy_prm_classic.BARN.instance_*.json'\n",
    "print(file_pattern)\n",
    "# Halton results loading\n",
    "results = collect_deterministic_results([file_pattern], instances, seeds)\n",
    "classic_table = tabulate_deterministic_results(results)"
   ]
  },
  {
   "cell_type": "code",
   "execution_count": null,
   "metadata": {},
   "outputs": [],
   "source": [
    "file_pattern = f'bc.BARN-{instance_set}/*.*.*.*/lazy_prm_bc.BARN.instance_*.json'\n",
    "print(file_pattern)\n",
    "# Halton results loading\n",
    "results = collect_deterministic_results([file_pattern], instances, seeds)\n",
    "bnc_table = tabulate_deterministic_results(results)"
   ]
  },
  {
   "cell_type": "code",
   "execution_count": null,
   "metadata": {},
   "outputs": [],
   "source": [
    "classic_configs, classic_tables = tabulate_results_by(classic_table, ('check_type','step_size','direction'))"
   ]
  },
  {
   "cell_type": "code",
   "execution_count": null,
   "metadata": {},
   "outputs": [],
   "source": [
    "bnc_configs, bnc_tables = tabulate_results_by(bnc_table, ('solver','no_good_type','direction'))"
   ]
  },
  {
   "cell_type": "code",
   "execution_count": null,
   "metadata": {},
   "outputs": [],
   "source": [
    "classic_coverage = {}\n",
    "for v in classic_configs:\n",
    "    if len(classic_tables[v]) > 0:\n",
    "        classic_coverage[v] = coverage_over_time(select_valid_instances(classic_tables[v]))"
   ]
  },
  {
   "cell_type": "code",
   "execution_count": null,
   "metadata": {},
   "outputs": [],
   "source": [
    "relevant_bnc_tables = {v: bnc_tables[v] for v in bnc_configs if v[1] == 'multi_edge'}"
   ]
  },
  {
   "cell_type": "code",
   "execution_count": null,
   "metadata": {},
   "outputs": [],
   "source": [
    "bnc_coverage = {}\n",
    "for key, table in relevant_bnc_tables.items():\n",
    "    bnc_coverage[key] = coverage_over_time(select_valid_instances(table))"
   ]
  },
  {
   "cell_type": "markdown",
   "metadata": {},
   "source": [
    "# Coverage comparison"
   ]
  },
  {
   "cell_type": "code",
   "execution_count": null,
   "metadata": {},
   "outputs": [],
   "source": [
    "cmp_classic_configs = [('unknown', 0.5, 'bk'), ('unknown', 0.02, 'bk'), ('unknown', 3e-05, 'bk'), ('polytrace', 0.1, 'bk')]\n",
    "bnc_configs = [('cp_sat', 'multi_edge', 'bk'), ('pulse', 'multi_edge', 'bk')]\n",
    "\n",
    "plt.figure(figsize=(18, 9))\n",
    "plt.plot([default_time_breakpoints[0], default_time_breakpoints[-1]], [6000, 6000], color='yellow', linestyle='--')\n",
    "\n",
    "for v in cmp_classic_configs:\n",
    "    label = 'Classic'\n",
    "    if v[0] == 'polytrace':\n",
    "        label += ', POLYTRACE, BK'\n",
    "    else:\n",
    "        label += ', $\\Delta t$={}, BK'.format(v[1])\n",
    "    plt.plot(default_time_breakpoints, classic_coverage[v], linestyle='-', label=label)\n",
    "\n",
    "for bnc_config in bnc_configs:\n",
    "    print(bnc_config)\n",
    "    label = 'BnC'\n",
    "    ls = '-.'\n",
    "    if bnc_config[0] == 'cp_sat':\n",
    "        label += ', CP-SAT'\n",
    "    elif bnc_config[0] == 'pulse':\n",
    "        label += ', PULSE'\n",
    "        ls = ':'\n",
    "    if bnc_config[2] == 'bk':\n",
    "        label += ', BK'\n",
    "    elif bnc_config[2] == 'gammell':\n",
    "        label += ', Gammell'\n",
    "    plt.plot(default_time_breakpoints, bnc_coverage[bnc_config], label=label, linestyle=ls)\n",
    "\n",
    "#plt.title('Coverage of Lazy PRM configurations')\n",
    "#plt.xlabel('Elapsed Time (s)')\n",
    "plt.xscale('log')\n",
    "#plt.ylabel('Valid Solutions')\n",
    "plt.legend()\n",
    "plt.tight_layout()\n",
    "plt.show()"
   ]
  },
  {
   "cell_type": "markdown",
   "metadata": {},
   "source": [
    "## Detailed comparison"
   ]
  },
  {
   "cell_type": "code",
   "execution_count": null,
   "metadata": {},
   "outputs": [],
   "source": [
    "classic_best = classic_tables[('polytrace', 0.1, 'bk')]"
   ]
  },
  {
   "cell_type": "code",
   "execution_count": null,
   "metadata": {},
   "outputs": [],
   "source": [
    "#bnc_best = bnc_tables[('cp_sat', 'multi_edge', 'gammell')]\n",
    "bnc_best = bnc_tables[('cp_sat', 'multi_edge', 'bk')]"
   ]
  },
  {
   "cell_type": "code",
   "execution_count": null,
   "metadata": {},
   "outputs": [],
   "source": [
    "cmp_table = pd.merge(classic_best, bnc_best, on=('instance', 'seed', 'sequence'), suffixes=('.classic', '.bnc'))"
   ]
  },
  {
   "cell_type": "code",
   "execution_count": null,
   "metadata": {},
   "outputs": [],
   "source": [
    "cmp_table = cmp_table[cmp_table['rgg_V.bnc'] == cmp_table['rgg_V.classic']]"
   ]
  },
  {
   "cell_type": "code",
   "execution_count": null,
   "metadata": {},
   "outputs": [],
   "source": [
    "cmp_table.head()"
   ]
  },
  {
   "cell_type": "code",
   "execution_count": null,
   "metadata": {},
   "outputs": [],
   "source": [
    "len(cmp_table)"
   ]
  },
  {
   "cell_type": "markdown",
   "metadata": {},
   "source": [
    "### Plan costs"
   ]
  },
  {
   "cell_type": "code",
   "execution_count": null,
   "metadata": {},
   "outputs": [],
   "source": [
    "x = cmp_table['smooth_cost_k.classic'].values\n",
    "y = cmp_table['smooth_cost_k.bnc'].values\n",
    "\n",
    "lin_model = compare_with_scatter_chart(x, y, title='Smooth cost comparison', x_name='Classic, POLYTRACE, BK', y_name='BnC, CP-SAT, BK', paper=True)"
   ]
  },
  {
   "cell_type": "code",
   "execution_count": null,
   "metadata": {},
   "outputs": [],
   "source": [
    "print(lin_model)"
   ]
  },
  {
   "cell_type": "code",
   "execution_count": null,
   "metadata": {},
   "outputs": [],
   "source": [
    "compare_sequences(x, y)"
   ]
  },
  {
   "cell_type": "markdown",
   "metadata": {},
   "source": [
    "## Plan Length"
   ]
  },
  {
   "cell_type": "code",
   "execution_count": null,
   "metadata": {},
   "outputs": [],
   "source": [
    "x = cmp_table['plan_length.classic'].values\n",
    "y = cmp_table['plan_length.bnc'].values\n",
    "\n",
    "lin_model = compare_with_scatter_chart(x, y, title='Smooth cost comparison', x_name='Classic', y_name='BnC')"
   ]
  },
  {
   "cell_type": "code",
   "execution_count": null,
   "metadata": {},
   "outputs": [],
   "source": [
    "print(lin_model)"
   ]
  },
  {
   "cell_type": "markdown",
   "metadata": {},
   "source": [
    "### Graph size"
   ]
  },
  {
   "cell_type": "code",
   "execution_count": null,
   "metadata": {},
   "outputs": [],
   "source": [
    "x = cmp_table['rgg_E.classic'].values\n",
    "y = cmp_table['rgg_E.bnc'].values\n",
    "\n",
    "lin_model = compare_with_scatter_chart(x, y, title='RGG Comparison: Edges', x_name='Classic', y_name='BnC')"
   ]
  },
  {
   "cell_type": "code",
   "execution_count": null,
   "metadata": {},
   "outputs": [],
   "source": [
    "print(lin_model)"
   ]
  },
  {
   "cell_type": "code",
   "execution_count": null,
   "metadata": {},
   "outputs": [],
   "source": [
    "x = cmp_table['rgg_V.classic'].values\n",
    "y = cmp_table['rgg_V.bnc'].values\n",
    "\n",
    "lin_model = compare_with_scatter_chart(x, y, title='RGG Comparison: Vertices', x_name='Classic', y_name='BnC')"
   ]
  },
  {
   "cell_type": "code",
   "execution_count": null,
   "metadata": {},
   "outputs": [],
   "source": [
    "print(lin_model)"
   ]
  },
  {
   "cell_type": "markdown",
   "metadata": {},
   "source": [
    "### Runtime"
   ]
  },
  {
   "cell_type": "code",
   "execution_count": null,
   "metadata": {},
   "outputs": [],
   "source": [
    "x = cmp_table['elapsed_time.classic'].values\n",
    "y = cmp_table['elapsed_time.bnc'].values\n",
    "\n",
    "lin_model = compare_with_scatter_chart(x, y, title='Runtime comparison', x_name='Classic', y_name='BnC')"
   ]
  },
  {
   "cell_type": "code",
   "execution_count": null,
   "metadata": {},
   "outputs": [],
   "source": [
    "print(lin_model)"
   ]
  },
  {
   "cell_type": "code",
   "execution_count": null,
   "metadata": {},
   "outputs": [],
   "source": []
  }
 ],
 "metadata": {
  "kernelspec": {
   "display_name": "Python 3 (ipykernel)",
   "language": "python",
   "name": "python3"
  },
  "language_info": {
   "codemirror_mode": {
    "name": "ipython",
    "version": 3
   },
   "file_extension": ".py",
   "mimetype": "text/x-python",
   "name": "python",
   "nbconvert_exporter": "python",
   "pygments_lexer": "ipython3",
   "version": "3.10.6"
  }
 },
 "nbformat": 4,
 "nbformat_minor": 4
}
