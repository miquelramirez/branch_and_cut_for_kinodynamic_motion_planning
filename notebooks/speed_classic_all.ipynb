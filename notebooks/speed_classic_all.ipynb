{
 "cells": [
  {
   "cell_type": "code",
   "execution_count": 1,
   "metadata": {
    "ExecuteTime": {
     "end_time": "2023-04-04T09:39:03.396624Z",
     "start_time": "2023-04-04T09:39:01.910999Z"
    },
    "pycharm": {
     "name": "#%%\n"
    }
   },
   "outputs": [],
   "source": [
    "import sys\n",
    "import pandas as pd\n",
    "import numpy as np\n",
    "import matplotlib.pyplot as plt\n",
    "from analysis_support import *\n",
    "from plots import *\n",
    "\n",
    "# IMPORTANT: need to install package `cm-super-minimal` and `dvipng` for matplotlib Latex Output to work\n",
    "\n",
    "plt.rcParams.update({\n",
    "    \"text.usetex\": True,\n",
    "    \"font.family\": \"sans-serif\",\n",
    "    \"font.sans-serif\": [\"Helvetica\"]})\n",
    "#plt.style.use('seaborn-poster')\n",
    "sys.path.append('.')\n",
    "pd.set_option('display.max_columns', None)"
   ]
  },
  {
   "cell_type": "code",
   "execution_count": 2,
   "metadata": {
    "ExecuteTime": {
     "end_time": "2023-04-04T09:39:03.406020Z",
     "start_time": "2023-04-04T09:39:03.400697Z"
    },
    "pycharm": {
     "name": "#%%\n"
    }
   },
   "outputs": [],
   "source": [
    "instance_set = 'all'\n",
    "instances = None\n",
    "#instance_set = 'handcrafted'\n",
    "#instances = [119, 160, 188, 192, 196, 250, 261, 263, 278, 287]"
   ]
  },
  {
   "cell_type": "code",
   "execution_count": 3,
   "metadata": {
    "ExecuteTime": {
     "end_time": "2023-04-04T09:39:03.415470Z",
     "start_time": "2023-04-04T09:39:03.409073Z"
    },
    "pycharm": {
     "name": "#%%\n"
    }
   },
   "outputs": [],
   "source": [
    "no_goods_type = 'single_edge'\n",
    "#no_goods_type = 'multi_edge'"
   ]
  },
  {
   "cell_type": "code",
   "execution_count": 4,
   "metadata": {
    "ExecuteTime": {
     "end_time": "2023-04-04T09:39:03.438949Z",
     "start_time": "2023-04-04T09:39:03.424299Z"
    },
    "pycharm": {
     "name": "#%%\n"
    }
   },
   "outputs": [],
   "source": [
    "solver = 'a_star'"
   ]
  },
  {
   "cell_type": "code",
   "execution_count": 5,
   "metadata": {
    "ExecuteTime": {
     "end_time": "2023-04-04T09:39:03.526987Z",
     "start_time": "2023-04-04T09:39:03.430930Z"
    },
    "pycharm": {
     "name": "#%%\n"
    }
   },
   "outputs": [],
   "source": [
    "seeds = [1, 41, 83, 139, 181, 257, 307, 353, 401, 449]"
   ]
  },
  {
   "cell_type": "code",
   "execution_count": 6,
   "metadata": {
    "ExecuteTime": {
     "end_time": "2023-04-04T09:39:04.059044Z",
     "start_time": "2023-04-04T09:39:03.475047Z"
    },
    "pycharm": {
     "name": "#%%\n"
    }
   },
   "outputs": [
    {
     "name": "stdout",
     "output_type": "stream",
     "text": [
      "classic.speed.BARN-all/*.classic.*.*/lazy_prm_classic.BARN.instance_*.json\n",
      "Found 22048 result files\n",
      "Error decoding JSON file: classic.speed.BARN-all\\halton.classic.polytrace.bk\\lazy_prm_classic.BARN.instance_063.halton.a_star.single_edge.bk.seed.307.max_speed.1.5step_size.polytrace.20-0.5.json\n",
      "Message: Expecting ',' delimiter: line 16118 column 14 (char 367954)\n",
      "Error decoding JSON file: classic.speed.BARN-all\\uniform.classic.polytrace.bk\\lazy_prm_classic.BARN.instance_062.uniform.a_star.single_edge.bk.seed.1.max_speed.1.5step_size.polytrace.20-0.5.json\n",
      "Message: Expecting ',' delimiter: line 4882 column 26 (char 98168)\n",
      "Missing results: 0\n"
     ]
    }
   ],
   "source": [
    "file_pattern = f'classic.speed.BARN-{instance_set}/*.classic.*.*/lazy_prm_classic.BARN.instance_*.json'\n",
    "print(file_pattern)\n",
    "# Halton results loading\n",
    "results = collect_deterministic_results([file_pattern], instances, seeds)\n",
    "table = tabulate_deterministic_results(results)"
   ]
  },
  {
   "cell_type": "code",
   "execution_count": 7,
   "metadata": {
    "ExecuteTime": {
     "end_time": "2023-04-04T09:39:04.122847Z",
     "start_time": "2023-04-04T09:39:04.059928Z"
    },
    "pycharm": {
     "name": "#%%\n"
    }
   },
   "outputs": [
    {
     "data": {
      "text/plain": "  domain      instance  seed sequence  max_speed no_good_type  solver  \\\n0   BARN  instance_000     1   halton        1.5  single_edge  a_star   \n1   BARN  instance_000     1   halton        2.0  single_edge  a_star   \n2   BARN  instance_000   139   halton        1.5  single_edge  a_star   \n3   BARN  instance_000   139   halton        2.0  single_edge  a_star   \n4   BARN  instance_000   181   halton        1.5  single_edge  a_star   \n\n  direction check_type  num_no_goods  rgg_V  rgg_E  rgg_expansions  \\\n0        bk    unknown             1     52    276               4   \n1        bk    unknown             2     52    456               4   \n2        bk    unknown             1     52    276               4   \n3        bk    unknown             2     52    456               4   \n4        bk    unknown             1     52    276               4   \n\n   rgg_dispersion  elapsed_time  plan_time  verif_time  iterations  valid  \\\n0        6.332786      0.111734   0.020577    0.008244           5  False   \n1        6.332786      0.141871   0.001867    0.006371           6   True   \n2        6.332786      0.166048   0.001539    0.003879           5  False   \n3        6.332786      0.154746   0.002006    0.022794           6   True   \n4        6.332786      0.049987   0.001638    0.003947           5  False   \n\n   exact_verification_time  step_size  holonomic_cost_0  holonomic_cost_k  \\\n0                 1.199871       0.02         10.753609         10.995665   \n1                 0.666398       0.02         10.677570         10.919626   \n2                 0.636210       0.02         10.753609         10.995665   \n3                 0.392832       0.02         10.677570         10.919626   \n4                 0.723762       0.02         10.753609         10.995665   \n\n   smooth_cost_0  smooth_cost_k  plan_length  \n0      10.813530      11.046182           11  \n1      10.720854      10.962206           10  \n2      10.813530      11.046182           11  \n3      10.720854      10.962206           10  \n4      10.813530      11.046182           11  ",
      "text/html": "<div>\n<style scoped>\n    .dataframe tbody tr th:only-of-type {\n        vertical-align: middle;\n    }\n\n    .dataframe tbody tr th {\n        vertical-align: top;\n    }\n\n    .dataframe thead th {\n        text-align: right;\n    }\n</style>\n<table border=\"1\" class=\"dataframe\">\n  <thead>\n    <tr style=\"text-align: right;\">\n      <th></th>\n      <th>domain</th>\n      <th>instance</th>\n      <th>seed</th>\n      <th>sequence</th>\n      <th>max_speed</th>\n      <th>no_good_type</th>\n      <th>solver</th>\n      <th>direction</th>\n      <th>check_type</th>\n      <th>num_no_goods</th>\n      <th>rgg_V</th>\n      <th>rgg_E</th>\n      <th>rgg_expansions</th>\n      <th>rgg_dispersion</th>\n      <th>elapsed_time</th>\n      <th>plan_time</th>\n      <th>verif_time</th>\n      <th>iterations</th>\n      <th>valid</th>\n      <th>exact_verification_time</th>\n      <th>step_size</th>\n      <th>holonomic_cost_0</th>\n      <th>holonomic_cost_k</th>\n      <th>smooth_cost_0</th>\n      <th>smooth_cost_k</th>\n      <th>plan_length</th>\n    </tr>\n  </thead>\n  <tbody>\n    <tr>\n      <th>0</th>\n      <td>BARN</td>\n      <td>instance_000</td>\n      <td>1</td>\n      <td>halton</td>\n      <td>1.5</td>\n      <td>single_edge</td>\n      <td>a_star</td>\n      <td>bk</td>\n      <td>unknown</td>\n      <td>1</td>\n      <td>52</td>\n      <td>276</td>\n      <td>4</td>\n      <td>6.332786</td>\n      <td>0.111734</td>\n      <td>0.020577</td>\n      <td>0.008244</td>\n      <td>5</td>\n      <td>False</td>\n      <td>1.199871</td>\n      <td>0.02</td>\n      <td>10.753609</td>\n      <td>10.995665</td>\n      <td>10.813530</td>\n      <td>11.046182</td>\n      <td>11</td>\n    </tr>\n    <tr>\n      <th>1</th>\n      <td>BARN</td>\n      <td>instance_000</td>\n      <td>1</td>\n      <td>halton</td>\n      <td>2.0</td>\n      <td>single_edge</td>\n      <td>a_star</td>\n      <td>bk</td>\n      <td>unknown</td>\n      <td>2</td>\n      <td>52</td>\n      <td>456</td>\n      <td>4</td>\n      <td>6.332786</td>\n      <td>0.141871</td>\n      <td>0.001867</td>\n      <td>0.006371</td>\n      <td>6</td>\n      <td>True</td>\n      <td>0.666398</td>\n      <td>0.02</td>\n      <td>10.677570</td>\n      <td>10.919626</td>\n      <td>10.720854</td>\n      <td>10.962206</td>\n      <td>10</td>\n    </tr>\n    <tr>\n      <th>2</th>\n      <td>BARN</td>\n      <td>instance_000</td>\n      <td>139</td>\n      <td>halton</td>\n      <td>1.5</td>\n      <td>single_edge</td>\n      <td>a_star</td>\n      <td>bk</td>\n      <td>unknown</td>\n      <td>1</td>\n      <td>52</td>\n      <td>276</td>\n      <td>4</td>\n      <td>6.332786</td>\n      <td>0.166048</td>\n      <td>0.001539</td>\n      <td>0.003879</td>\n      <td>5</td>\n      <td>False</td>\n      <td>0.636210</td>\n      <td>0.02</td>\n      <td>10.753609</td>\n      <td>10.995665</td>\n      <td>10.813530</td>\n      <td>11.046182</td>\n      <td>11</td>\n    </tr>\n    <tr>\n      <th>3</th>\n      <td>BARN</td>\n      <td>instance_000</td>\n      <td>139</td>\n      <td>halton</td>\n      <td>2.0</td>\n      <td>single_edge</td>\n      <td>a_star</td>\n      <td>bk</td>\n      <td>unknown</td>\n      <td>2</td>\n      <td>52</td>\n      <td>456</td>\n      <td>4</td>\n      <td>6.332786</td>\n      <td>0.154746</td>\n      <td>0.002006</td>\n      <td>0.022794</td>\n      <td>6</td>\n      <td>True</td>\n      <td>0.392832</td>\n      <td>0.02</td>\n      <td>10.677570</td>\n      <td>10.919626</td>\n      <td>10.720854</td>\n      <td>10.962206</td>\n      <td>10</td>\n    </tr>\n    <tr>\n      <th>4</th>\n      <td>BARN</td>\n      <td>instance_000</td>\n      <td>181</td>\n      <td>halton</td>\n      <td>1.5</td>\n      <td>single_edge</td>\n      <td>a_star</td>\n      <td>bk</td>\n      <td>unknown</td>\n      <td>1</td>\n      <td>52</td>\n      <td>276</td>\n      <td>4</td>\n      <td>6.332786</td>\n      <td>0.049987</td>\n      <td>0.001638</td>\n      <td>0.003947</td>\n      <td>5</td>\n      <td>False</td>\n      <td>0.723762</td>\n      <td>0.02</td>\n      <td>10.753609</td>\n      <td>10.995665</td>\n      <td>10.813530</td>\n      <td>11.046182</td>\n      <td>11</td>\n    </tr>\n  </tbody>\n</table>\n</div>"
     },
     "execution_count": 7,
     "metadata": {},
     "output_type": "execute_result"
    }
   ],
   "source": [
    "table.head()"
   ]
  },
  {
   "cell_type": "markdown",
   "metadata": {
    "pycharm": {
     "name": "#%% md\n"
    }
   },
   "source": [
    "# Bohlin-Kavraki directions"
   ]
  },
  {
   "cell_type": "code",
   "execution_count": 8,
   "metadata": {
    "ExecuteTime": {
     "end_time": "2023-04-04T09:39:04.362716Z",
     "start_time": "2023-04-04T09:39:04.099814Z"
    },
    "pycharm": {
     "name": "#%%\n"
    }
   },
   "outputs": [
    {
     "name": "stdout",
     "output_type": "stream",
     "text": [
      "[array(['polytrace', 'unknown'], dtype=object), array([0.02, 0.1 ]), array(['bk'], dtype=object), array([1.5, 2. ])]\n",
      "Tables generated: 8\n"
     ]
    }
   ],
   "source": [
    "configs, tables = tabulate_results_by(table, ('check_type','step_size','direction','max_speed'))\n"
   ]
  },
  {
   "cell_type": "code",
   "execution_count": 9,
   "metadata": {
    "ExecuteTime": {
     "end_time": "2023-04-04T09:39:04.453362Z",
     "start_time": "2023-04-04T09:39:04.226987Z"
    },
    "pycharm": {
     "name": "#%%\n"
    }
   },
   "outputs": [
    {
     "name": "stdout",
     "output_type": "stream",
     "text": [
      "Ignoring empty table for: ('polytrace', 0.02, 'bk', 1.5)\n",
      "Ignoring empty table for: ('polytrace', 0.02, 'bk', 2.0)\n",
      "Ignoring empty table for: ('unknown', 0.1, 'bk', 1.5)\n",
      "Ignoring empty table for: ('unknown', 0.1, 'bk', 2.0)\n"
     ]
    },
    {
     "data": {
      "text/plain": "                      config  total  valid  invalid\n0  (polytrace, 0.1, bk, 1.5)   4142   4142        0\n1  (polytrace, 0.1, bk, 2.0)   5906   5906        0\n2   (unknown, 0.02, bk, 1.5)   6000    160     5840\n3   (unknown, 0.02, bk, 2.0)   5998    842     5156",
      "text/html": "<div>\n<style scoped>\n    .dataframe tbody tr th:only-of-type {\n        vertical-align: middle;\n    }\n\n    .dataframe tbody tr th {\n        vertical-align: top;\n    }\n\n    .dataframe thead th {\n        text-align: right;\n    }\n</style>\n<table border=\"1\" class=\"dataframe\">\n  <thead>\n    <tr style=\"text-align: right;\">\n      <th></th>\n      <th>config</th>\n      <th>total</th>\n      <th>valid</th>\n      <th>invalid</th>\n    </tr>\n  </thead>\n  <tbody>\n    <tr>\n      <th>0</th>\n      <td>(polytrace, 0.1, bk, 1.5)</td>\n      <td>4142</td>\n      <td>4142</td>\n      <td>0</td>\n    </tr>\n    <tr>\n      <th>1</th>\n      <td>(polytrace, 0.1, bk, 2.0)</td>\n      <td>5906</td>\n      <td>5906</td>\n      <td>0</td>\n    </tr>\n    <tr>\n      <th>2</th>\n      <td>(unknown, 0.02, bk, 1.5)</td>\n      <td>6000</td>\n      <td>160</td>\n      <td>5840</td>\n    </tr>\n    <tr>\n      <th>3</th>\n      <td>(unknown, 0.02, bk, 2.0)</td>\n      <td>5998</td>\n      <td>842</td>\n      <td>5156</td>\n    </tr>\n  </tbody>\n</table>\n</div>"
     },
     "execution_count": 9,
     "metadata": {},
     "output_type": "execute_result"
    }
   ],
   "source": [
    "tabulate_coverage(configs, tables)"
   ]
  },
  {
   "cell_type": "code",
   "execution_count": 10,
   "metadata": {
    "ExecuteTime": {
     "end_time": "2023-04-04T09:39:04.455655Z",
     "start_time": "2023-04-04T09:39:04.271177Z"
    },
    "pycharm": {
     "name": "#%%\n"
    }
   },
   "outputs": [],
   "source": [
    "cov_from_step_size = {}\n",
    "for v in configs:\n",
    "    if len(tables[v]) > 0:\n",
    "        cov_from_step_size[v] = coverage_over_time(select_valid_instances(tables[v]))"
   ]
  },
  {
   "cell_type": "code",
   "execution_count": 11,
   "metadata": {
    "ExecuteTime": {
     "end_time": "2023-04-04T09:39:05.711581Z",
     "start_time": "2023-04-04T09:39:04.315043Z"
    },
    "pycharm": {
     "name": "#%%\n"
    }
   },
   "outputs": [
    {
     "data": {
      "text/plain": "<Figure size 648x648 with 1 Axes>",
      "image/png": "[encoded data removed]"
     },
     "metadata": {
      "needs_background": "light"
     },
     "output_type": "display_data"
    }
   ],
   "source": [
    "plt.figure(figsize=(9, 9))\n",
    "plt.plot([default_time_breakpoints[0], default_time_breakpoints[-1]], [6000, 6000], color='yellow', linestyle='--')\n",
    "for v in configs:\n",
    "    if len(tables[v]) > 0 and v[2] == 'bk':\n",
    "        label = 'Classic Lazy PRM,'\n",
    "        if v[0] == 'polytrace':\n",
    "            label += 'POLYTRACE'\n",
    "        else:\n",
    "            label += '$dt$={}'.format(v[1])\n",
    "        label += ', ${} = {}$'.format('v_{max}', v[-1])\n",
    "        plt.plot(default_time_breakpoints, cov_from_step_size[v], label=label)\n",
    "\n",
    "plt.title('Coverage of Classic Lazy PRM as function of $dt$')\n",
    "plt.xlabel('Elapsed Time (s)')\n",
    "plt.xscale('log')\n",
    "plt.ylabel('Valid')\n",
    "plt.legend()\n",
    "plt.show()"
   ]
  }
 ],
 "metadata": {
  "kernelspec": {
   "display_name": "Python 3 (ipykernel)",
   "language": "python",
   "name": "python3"
  },
  "language_info": {
   "codemirror_mode": {
    "name": "ipython",
    "version": 3
   },
   "file_extension": ".py",
   "mimetype": "text/x-python",
   "name": "python",
   "nbconvert_exporter": "python",
   "pygments_lexer": "ipython3",
   "version": "3.10.6"
  }
 },
 "nbformat": 4,
 "nbformat_minor": 1
}